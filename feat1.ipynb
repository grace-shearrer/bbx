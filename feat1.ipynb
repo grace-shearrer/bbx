{
 "cells": [
  {
   "cell_type": "markdown",
   "metadata": {},
   "source": [
    "# Feat 1 Check  \n",
    "Here we go over quality checking our feat1 directories made by FSL!  \n",
    "   \n",
    "Reference: [Checking your level 1 - mumfordbrainstats](https://www.youtube.com/watch?v=kW1xgGs4NUU&list=PLB2iAtgpI4YHlH4sno3i3CUjCofI38a-3&index=13)  \n",
    "Checklist:  \n",
    "* Create html  \n",
    "* Check for exsistence of expected files  \n",
    "    * zstats   \n",
    "    * look into log files (errors, etc...)  \n",
    "\n",
    "\n",
    "\n",
    "When looking at html: \n",
    "* Regressors look like you want  \n",
    "* check pairwise colinearity"
   ]
  },
  {
   "cell_type": "code",
   "execution_count": 37,
   "metadata": {},
   "outputs": [],
   "source": [
    "import os, glob\n",
    "import subprocess"
   ]
  },
  {
   "cell_type": "code",
   "execution_count": 40,
   "metadata": {},
   "outputs": [
    {
     "name": "stdout",
     "output_type": "stream",
     "text": [
      "Enter target study bids path: /projects/niblab/bids_projects/Experiments/bbx/bids\n"
     ]
    }
   ],
   "source": [
    "# get feat1 directories\n",
    "bids_path=input(\"Enter target study bids path: \")\n",
    "#/projects/niblab/bids_projects/Experiments/bbx/bids"
   ]
  },
  {
   "cell_type": "code",
   "execution_count": 41,
   "metadata": {},
   "outputs": [],
   "source": [
    "subjects = sorted(glob.glob(os.path.join(bids_path, \"derivatives/sub-*/ses-1\")))"
   ]
  },
  {
   "cell_type": "code",
   "execution_count": 28,
   "metadata": {},
   "outputs": [],
   "source": [
    "outfile = os.path.join(bids_path, \"derivatives/testing_feat1_qc.html\")\n",
    "f = open(outfile, \"w\")\n",
    "\n",
    "for sub_path in subjects[:16]:\n",
    "    sub_id = sub_path.split(\"/\")[-2]\n",
    "    f.write(\"<h2>Subject: %s\\n</h2>\"%sub_id)\n",
    "    feat1_path = os.path.join(sub_path, \"func/Analysis/feat1\")\n",
    "    feat1_dirs = sorted(glob.glob(os.path.join(feat1_path, \"*.feat\")))\n",
    "    for f1_dir in feat1_dirs:\n",
    "        run_id = f1_dir.split(\"/\")[-1].split(\"_\")[2]\n",
    "        f.write(\"<h4>Directory: %s\\n</h4>\"%f1_dir)\n",
    "\n",
    "        design_img1 = \"%s/design.png\"%f1_dir\n",
    "        if os.path.exists(design_img1):\n",
    "            f.write(\"<p><img src=%s alt=img1\"%(design_img1))\n",
    "            f.write(\"\\n\")\n",
    "        design_img2 = \"%s/design_cov.png\"%f1_dir\n",
    "        if os.path.exists(design_img2):\n",
    "            f.write(\"<p><IMG SRC=%s alt=img2\"%(design_img2))\n",
    "            f.write(\"\\n\")\n",
    "        func2high_img = \"%s/reg/example_func2highres.png\"%f1_dir\n",
    "        if os.path.exists(func2high_img):\n",
    "            f.write(\"<p><IMG SRC=%s WIDTH=1200 alt=img3>\"%(func2high_img))\n",
    "            f.write(\"\\n\")\n",
    "        func2std_img = \"%s/reg/example_func2standard.png\"%f1_dir\n",
    "        if os.path.exists(func2std_img ):\n",
    "            f.write(\"<p><IMG SRC=%s WIDTH=1200 alt=img4>\"%(func2std_img))\n",
    "            f.write(\"\\n\")\n",
    "        high2std_img = \"%s/reg/highres2standard.png\"%f1_dir\n",
    "        if os.path.exists(high2std_img ):\n",
    "            f.write(\"<p><IMG SRC=%s WIDTH=1200 alt=img5>\"%(high2std_img))\n",
    "            f.write(\"\\n\")\n",
    "        \n",
    "        \n",
    "        \n",
    "f.close()"
   ]
  },
  {
   "cell_type": "markdown",
   "metadata": {},
   "source": [
    "### Checking for zstats"
   ]
  },
  {
   "cell_type": "code",
   "execution_count": 42,
   "metadata": {},
   "outputs": [
    {
     "name": "stdout",
     "output_type": "stream",
     "text": [
      "Missing zstats for subject: \t sub-010\n"
     ]
    }
   ],
   "source": [
    "for sub_path in subjects[:16]:\n",
    "    feat1_path = os.path.join(sub_path, \"func/Analysis/feat1\")\n",
    "    feat1_dirs = sorted(glob.glob(os.path.join(feat1_path, \"*.feat\")))\n",
    "    for run_path in feat1_dirs:\n",
    "        zstats=glob.glob(os.path.join(run_path, 'stats/zstat*nii.gz'))\n",
    "        if not zstats:\n",
    "            print(\"Missing zstats for subject: \\t\", sub_path.split(\"/\")[-2] )\n",
    "            "
   ]
  },
  {
   "cell_type": "markdown",
   "metadata": {},
   "source": [
    "### Checking for errors in logs"
   ]
  },
  {
   "cell_type": "code",
   "execution_count": 60,
   "metadata": {},
   "outputs": [],
   "source": [
    "for sub_path in subjects:\n",
    "    feat1_path = os.path.join(sub_path, \"func/Analysis/feat1\")\n",
    "    feat1_dirs = sorted(glob.glob(os.path.join(feat1_path, \"*.feat\")))\n",
    "    for run_dir in feat1_dirs:\n",
    "        html = os.path.join(run_dir, \"report_log.html\")\n",
    "        cmd = subprocess.Popen([\"grep\", \"-i\", \"'error'\", \"%s\"%html],  stdout=subprocess.PIPE, shell=True)\n",
    "        output, err = cmd.communicate()\n",
    "        if not output:\n",
    "            pass\n",
    "        else:\n",
    "            print(output)"
   ]
  },
  {
   "cell_type": "code",
   "execution_count": null,
   "metadata": {},
   "outputs": [],
   "source": []
  }
 ],
 "metadata": {
  "kernelspec": {
   "display_name": "Python 3",
   "language": "python",
   "name": "python3"
  },
  "language_info": {
   "codemirror_mode": {
    "name": "ipython",
    "version": 3
   },
   "file_extension": ".py",
   "mimetype": "text/x-python",
   "name": "python",
   "nbconvert_exporter": "python",
   "pygments_lexer": "ipython3",
   "version": "3.7.4"
  }
 },
 "nbformat": 4,
 "nbformat_minor": 2
}
