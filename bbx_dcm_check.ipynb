{
 "cells": [
  {
   "cell_type": "code",
   "execution_count": null,
   "metadata": {
    "collapsed": true
   },
   "outputs": [],
   "source": [
    "import glob, os\n",
    "expected_sub_lst=list(range(1,160)) # Expecting subject IDs 1-56\n",
    "print(expected_sub_lst)\n",
    "\n",
    "\n",
    "ses1_dcms=[x.split(\"/\")[-1].split(\"-\")[1].lstrip(\"0\") for x in \n",
    "           glob.glob(\"/projects/niblab/bids_projects/Experiments/bbx/bids/sourcedata/DICOM/ses-1/sub-*\")]\n",
    "ses2_dcms=[x.split(\"/\")[-1].split(\"-\")[1].lstrip(\"0\") for x in \n",
    "           glob.glob(\"/projects/niblab/bids_projects/Experiments/bbx/bids/sourcedata/DICOM/ses-2/sub-*\")]\n",
    "       \n",
    "import numpy as np\n",
    "s1_mia = np.setdiff1d(expected_sub_lst,ses1_dcms)\n",
    "s2_mia = np.setdiff1d(expected_sub_lst,ses2_dcms)\n",
    "\n",
    "\n",
    "print(\"Subjects missing from RENCI: \\nsession 1: \\t{} \\nsession 2: \\t{} \".format(s1_mia, s2_mia))\n",
    "\n",
    "print(\"SESSION 1: \\t{} \\nSESSION 2: \\t{}\".format(len(s1_mia), len(s2_mia)))"
   ]
  },
  {
   "cell_type": "code",
   "execution_count": null,
   "outputs": [],
   "source": [
    "Subjects missing from RENCI: \n",
    "session 1: \t[ 28  29  30  31  32  47  49  65  69  70  71  75  76  77  78  79  80  81\n",
    "  82  83  84  85  86  87  88  89  90  91  92  93  95 101 105 106 110 113\n",
    " 122 125 126 127 128 129 130 131 132 133 134 135 136 137 138 139 140 141\n",
    " 142 143 144 145 146 147 148 149 150 151 152 153 154 155 156 157 158 159] \n",
    "session 2: \t[  3  12  18  25  26  27  28  29  30  47  49  50  52  56  57  58  59  60\n",
    "  62  64  65  66  67  68  69  70  71  72  73  74  75  76  77  78  79  80\n",
    "  81  82  83  84  85  86  87  88  89  90  91  92  93 101 105 106 110 113\n",
    " 117 120 122 123 125 126 127 128 129 130 131 132 133 134 135 136 137 138\n",
    " 139 140 141 142 143 144 145 146 147 148 149 150 151 152 153 154 155 156\n",
    " 157 158 159]\n",
    "\n",
    "\n",
    "SESSION 1: \t55 \n",
    "SESSION 2: \t81"
   ],
   "metadata": {
    "collapsed": false,
    "pycharm": {
     "name": "#%%\n"
    }
   }
  },
  {
   "cell_type": "code",
   "execution_count": null,
   "outputs": [],
   "source": [
    "ses1_bids=[x.split(\"/\")[-2].split(\"-\")[1].lstrip(\"0\") for x in \n",
    "           glob.glob(\"/projects/niblab/bids_projects/Experiments/bbx/bids/sub-*/ses-1\")]\n",
    "ses2_bids=[x.split(\"/\")[-2].split(\"-\")[1].lstrip(\"0\") for x in \n",
    "           glob.glob(\"/projects/niblab/bids_projects/Experiments/bbx/bids/sub-*/ses-2\")]\n",
    "       \n",
    "import numpy as np\n",
    "s1_mia = np.setdiff1d(ses1_dcms,ses1_bids)\n",
    "s2_mia = np.setdiff1d(ses2_dcms,ses2_bids)\n",
    "\n",
    "\n",
    "print(\"Subjects missing from RENCI: \\nsession 1: \\t{} \\nsession 2: \\t{} \".format(s1_mia, s2_mia))\n",
    "\n",
    "print(\"SESSION 1: \\t{} \\nSESSION 2: \\t{}\".format(len(s1_mia), len(s2_mia)))\n",
    "\n"
   ],
   "metadata": {
    "collapsed": false,
    "pycharm": {
     "name": "#%%\n"
    }
   }
  },
  {
   "cell_type": "code",
   "execution_count": null,
   "outputs": [],
   "source": [
    "session 1: \t['141' '142' '143' '144' '145' '146' '147' '148' '149' '150' '151' '152'\n",
    " '153' '154' '156' '157' '159'] \n",
    "session 2: \t['130' '140' '141' '142' '143' '144' '145' '146' '147' '148' '149' '152'] \n",
    "\n",
    "SESSION 1: \t17 \n",
    "SESSION 2: \t12\n",
    "\n"
   ],
   "metadata": {
    "collapsed": false,
    "pycharm": {
     "name": "#%%\n"
    }
   }
  }
 ],
 "metadata": {
  "kernelspec": {
   "display_name": "Python 3",
   "language": "python",
   "name": "python3"
  },
  "language_info": {
   "codemirror_mode": {
    "name": "ipython",
    "version": 2
   },
   "file_extension": ".py",
   "mimetype": "text/x-python",
   "name": "python",
   "nbconvert_exporter": "python",
   "pygments_lexer": "ipython2",
   "version": "2.7.6"
  },
  "pycharm": {
   "stem_cell": {
    "cell_type": "raw",
    "source": [],
    "metadata": {
     "collapsed": false
    }
   }
  }
 },
 "nbformat": 4,
 "nbformat_minor": 0
}