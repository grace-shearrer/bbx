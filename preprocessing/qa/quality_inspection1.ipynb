{
 "cells": [
  {
   "cell_type": "code",
   "execution_count": 1,
   "metadata": {
    "pycharm": {
     "is_executing": false
    }
   },
   "outputs": [
    {
     "traceback": [
      "\u001b[0;31m---------------------------------------------------------------------------\u001b[0m",
      "\u001b[0;31mModuleNotFoundError\u001b[0m                       Traceback (most recent call last)",
      "\u001b[0;32m<ipython-input-1-dd439c74109d>\u001b[0m in \u001b[0;36m<module>\u001b[0;34m\u001b[0m\n\u001b[1;32m      1\u001b[0m \u001b[0;32mimport\u001b[0m \u001b[0mglob\u001b[0m\u001b[0;34m,\u001b[0m \u001b[0mos\u001b[0m\u001b[0;34m\u001b[0m\u001b[0m\n\u001b[0;32m----> 2\u001b[0;31m \u001b[0;32mimport\u001b[0m \u001b[0mpandas\u001b[0m \u001b[0;32mas\u001b[0m \u001b[0mpd\u001b[0m\u001b[0;34m\u001b[0m\u001b[0m\n\u001b[0m\u001b[1;32m      3\u001b[0m \u001b[0;32mimport\u001b[0m \u001b[0mpdb\u001b[0m\u001b[0;34m\u001b[0m\u001b[0m\n\u001b[1;32m      4\u001b[0m \u001b[0;32mfrom\u001b[0m \u001b[0mIPython\u001b[0m\u001b[0;34m.\u001b[0m\u001b[0mcore\u001b[0m \u001b[0;32mimport\u001b[0m \u001b[0mdisplay\u001b[0m \u001b[0;32mas\u001b[0m \u001b[0mICD\u001b[0m\u001b[0;34m\u001b[0m\u001b[0m\n\u001b[1;32m      5\u001b[0m \u001b[0mpd\u001b[0m\u001b[0;34m.\u001b[0m\u001b[0moptions\u001b[0m\u001b[0;34m.\u001b[0m\u001b[0mdisplay\u001b[0m\u001b[0;34m.\u001b[0m\u001b[0mmax_rows\u001b[0m\u001b[0;34m\u001b[0m\u001b[0m\n",
      "\u001b[0;31mModuleNotFoundError\u001b[0m: No module named 'pandas'"
     ],
     "ename": "ModuleNotFoundError",
     "evalue": "No module named 'pandas'",
     "output_type": "error"
    }
   ],
   "source": [
    "import glob, os\n",
    "import pandas as pd\n",
    "import pdb\n",
    "from IPython.core import display as ICD \n",
    "pd.options.display.max_rows\n",
    "pd.set_option('display.max_colwidth', -1)\n"
   ]
  },
  {
   "cell_type": "markdown",
   "metadata": {},
   "source": [
    "Collect files with bad volumes from our text input file:"
   ]
  },
  {
   "cell_type": "code",
   "execution_count": null,
   "metadata": {
    "pycharm": {
     "is_executing": false
    }
   },
   "outputs": [],
   "source": [
    "# CODE TIP -extend functionally by adding automatic reference to volume check file \n",
    "\n",
    "filename='bad_volumes.txt'\n",
    "vol_dict = {}\n",
    "with open(filename) as f:\n",
    "    content=f.readlines()\n",
    "    for line in content:\n",
    "        if \"training\" in line:\n",
    "            file=line.split(\"\\t\")[0]\n",
    "            vol=line.split(\"\\t\")[1].strip()\n",
    "        else:\n",
    "            file=line.split(\"\\t\\t\")[0]\n",
    "            vol=line.split(\"\\t\\t\")[1].strip()\n",
    "        temp_tuple=(file,vol)\n",
    "        sub_id = file.split(\":\")[1].split(\"_\")[0]\n",
    "        if sub_id not in vol_dict:\n",
    "            vol_dict[sub_id] = [temp_tuple]\n",
    "        else:\n",
    "            vol_dict[sub_id].append(temp_tuple)\n",
    "\n"
   ]
  },
  {
   "cell_type": "code",
   "execution_count": null,
   "metadata": {
    "pycharm": {
     "is_executing": false
    }
   },
   "outputs": [],
   "source": [
    "## setup scan notes dataframe\n",
    "\n",
    "df_orig = pd.read_csv(\"w1_notes.csv\", encoding='latin 1')\n",
    "w1_scan_notes = df_orig[['participantID', 'w1scan_scannotes']]\n",
    "w1_scan_notes=w1_scan_notes.drop(0)\n",
    "w1_scan_notes.set_index('participantID', inplace=True)\n",
    "w1_scan_notes.head()"
   ]
  },
  {
   "cell_type": "markdown",
   "metadata": {},
   "source": [
    "### Below we list out the files with bad volumes and view the scan notes. \n",
    "- View [`CHANGELOG.md`]() for further details on scan if available.\n",
    "\n",
    "*Note we need to add scan notes file input, currently only lists bad volume files*"
   ]
  },
  {
   "cell_type": "code",
   "execution_count": null,
   "metadata": {
    "pycharm": {
     "is_executing": false
    }
   },
   "outputs": [],
   "source": [
    "print(\"Here we look at files found not matching their expected volume. \\\n",
    "      \\nExpectations: { rl: 212, training: 233, resting: 147 } \\n\")\n",
    "  \n",
    "print(\"Subjects with bad files: \\t{}\".format(sorted(vol_dict.keys())))\n",
    "for sub in vol_dict:\n",
    "    # get information from resources to print specific subject information\n",
    "    bbx_id= sub.replace(\"sub-\", \"bbx_\")\n",
    "\n",
    "    train=[x for x in vol_dict[sub] if \"training\" in x[0]]\n",
    "    rl=[x for x in vol_dict[sub] if \"rl\" in x[0]]\n",
    "    rest=[x for x in vol_dict[sub] if \"resting\" in x[0]]\n",
    "    print(\"\\n________________________________________________________________\")\n",
    "    print(\"\\nID: {}\\n\".format(sub))\n",
    "    print(\"> FILES WITH BAD VOLUMES\")\n",
    "    if train:\n",
    "        print(\"\\n- Training files: \\n\")\n",
    "        for file, vol in train:\n",
    "            ses=file.split(\"_\")[1]\n",
    "            print(\"{} \\t\\t{}\".format(file,vol))\n",
    "    if rl:\n",
    "        print(\"\\n- Prediction Error files: \\n\")\n",
    "        for file, vol in rl:\n",
    "            print(\"{} \\t\\t{}\".format(file,vol))\n",
    "    if rest:\n",
    "        print(\"\\n- Resting files: \\n\")\n",
    "        for file, vol in rest:\n",
    "            print(\"{} \\t\\t{}\".format(file,vol))\n",
    "            \n",
    "    print(\"\\n> SCAN NOTES\")\n",
    "    ICD.display(w1_scan_notes.loc[bbx_id])\n",
    "    print(\"\\n\\n\")\n"
   ]
  },
  {
   "cell_type": "markdown",
   "metadata": {},
   "source": [
    "### BIDS Directory Check"
   ]
  },
  {
   "cell_type": "code",
   "execution_count": null,
   "metadata": {
    "pycharm": {
     "is_executing": false
    }
   },
   "outputs": [],
   "source": [
    "sessions=['ses-1']\n",
    "for sess_id in sessions:\n",
    "    if \"1\" in sess_id:\n",
    "        print(\"\\n> SESSION 1\\n\")\n",
    "    else:\n",
    "        print(\"\\n> SESSION 2\\n\")\n",
    "        \n",
    "    #ses_mia=pd.read_csv('bro_{}_missing.csv'.format(sess_id),sep=\"\\t\")\n",
    "    #ses_mia.set_index(\"Unnamed: 0\", inplace=True)\n",
    "    #ses_mia.index.names=[\"subjects\"]\n",
    "    \n",
    "    ses_pmia=pd.read_csv('qa/bbx_{}_partial_missing.csv'.format(sess_id),sep=\"\\t\")\n",
    "    ses_pmia.set_index(\"Unnamed: 0\", inplace=True)\n",
    "    ses_pmia.index.names=[\"subjects\"]\n",
    "    \n",
    "    \n",
    "        \n",
    "    \n",
    "    #ses_fd=pd.read_csv('bro_{}_found.csv'.format(sess_id),sep=\"\\t\")\n",
    "    #ses_fd.set_index(\"Unnamed: 0\", inplace=True)\n",
    "    #ses_fd.index.names=[\"subjects\"]\n",
    "    \n",
    "    \n",
    "\n",
    "    #print(\"All files found missing: \\t{}\\n\".format(' '.join(ses_mia.index.values)))\n",
    "    print(\"Some files found missing in subjects: \\n\")# \\t{}\\n\".format(' '.join(ses_pmia.index.values)))\n",
    "    #print(\"All files found: \\t\\t{}\\n\".format(' '.join(ses_fd.index.values)))\n",
    "\n",
    "    #print(\"\\nDataframe (Missing files): \")\n",
    "    #ICD.display(ses_mia)\n",
    "    \n",
    "    for sub in ses_pmia.index.values:\n",
    "        print(\"> {} \\n\".format(sub))\n",
    "        bro_id = sub.replace(\"sub-\", \"bbx_\")\n",
    "        ICD.display(ses_pmia.loc[sub, :])\n",
    "        ICD.display(w1_scan_notes.loc[bbx_id])\n",
    "        print(\"\\n\")\n",
    "    print(\"\\nDataframe (Partial files found): \")\n",
    "    ICD.display(ses_pmia)\n",
    "    print(\"\\n\")\n",
    "    \n",
    "    #print(\"\\nDataframe (All files found): \")\n",
    "    #ICD.display(ses_fd)\n",
    "    \n",
    "    "
   ]
  },
  {
   "cell_type": "code",
   "execution_count": null,
   "metadata": {
    "pycharm": {
     "is_executing": false
    }
   },
   "outputs": [],
   "source": []
  }
 ],
 "metadata": {
  "kernelspec": {
   "display_name": "Python 3",
   "language": "python",
   "name": "python3"
  },
  "language_info": {
   "codemirror_mode": {
    "name": "ipython",
    "version": 3
   },
   "file_extension": ".py",
   "mimetype": "text/x-python",
   "name": "python",
   "nbconvert_exporter": "python",
   "pygments_lexer": "ipython3",
   "version": "3.7.3"
  },
  "pycharm": {
   "stem_cell": {
    "cell_type": "raw",
    "source": [],
    "metadata": {
     "collapsed": false
    }
   }
  }
 },
 "nbformat": 4,
 "nbformat_minor": 4
}