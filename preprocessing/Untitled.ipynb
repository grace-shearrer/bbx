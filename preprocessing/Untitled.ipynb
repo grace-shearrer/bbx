{
 "cells": [
  {
   "cell_type": "code",
   "execution_count": 40,
   "metadata": {},
   "outputs": [],
   "source": [
    "import os, glob\n",
    "import pandas as pd\n",
    "\n",
    "\n",
    "df_w1_notes=pd.read_csv('w1_notes.csv',encoding='latin-1')\n",
    "df_w1_notes.head()\n",
    "df_w1_notes.columns\n",
    "df_clean=df_w1_notes[['participantID', 'w1scan_scannotes']]"
   ]
  },
  {
   "cell_type": "code",
   "execution_count": 47,
   "metadata": {},
   "outputs": [
    {
     "name": "stdout",
     "output_type": "stream",
     "text": [
      "Empty DataFrame\n",
      "Columns: [participantID, w1scan_scannotes]\n",
      "Index: []\n",
      "Empty DataFrame\n",
      "Columns: [participantID, w1scan_scannotes]\n",
      "Index: []\n",
      "Empty DataFrame\n",
      "Columns: [participantID, w1scan_scannotes]\n",
      "Index: []\n",
      "   participantID w1scan_scannotes\n",
      "73       bbx_065              NaN\n",
      "Empty DataFrame\n",
      "Columns: [participantID, w1scan_scannotes]\n",
      "Index: []\n",
      "   participantID                                   w1scan_scannotes\n",
      "70       bbx_076  Scan stopped during training task 4 due to nausea\n",
      "Empty DataFrame\n",
      "Columns: [participantID, w1scan_scannotes]\n",
      "Index: []\n",
      "Empty DataFrame\n",
      "Columns: [participantID, w1scan_scannotes]\n",
      "Index: []\n",
      "Empty DataFrame\n",
      "Columns: [participantID, w1scan_scannotes]\n",
      "Index: []\n",
      "Empty DataFrame\n",
      "Columns: [participantID, w1scan_scannotes]\n",
      "Index: []\n",
      "Empty DataFrame\n",
      "Columns: [participantID, w1scan_scannotes]\n",
      "Index: []\n",
      "Empty DataFrame\n",
      "Columns: [participantID, w1scan_scannotes]\n",
      "Index: []\n",
      "Empty DataFrame\n",
      "Columns: [participantID, w1scan_scannotes]\n",
      "Index: []\n",
      "Empty DataFrame\n",
      "Columns: [participantID, w1scan_scannotes]\n",
      "Index: []\n",
      "Empty DataFrame\n",
      "Columns: [participantID, w1scan_scannotes]\n",
      "Index: []\n",
      "Empty DataFrame\n",
      "Columns: [participantID, w1scan_scannotes]\n",
      "Index: []\n",
      "Empty DataFrame\n",
      "Columns: [participantID, w1scan_scannotes]\n",
      "Index: []\n"
     ]
    }
   ],
   "source": [
    "id_lst = [ '29',  '47',  '49',  '65', '69',  '76',  '81', '101', '105', '106', '110', '113', '122', '125', '126', '139', '158']\n",
    "for id_ in id_lst:\n",
    "    val=id_.rjust(3, '0')\n",
    "    bbx_id = \"bbx_\"+val\n",
    "    print(df_clean.loc[df_clean['participantID'] == bbx_id])\n"
   ]
  },
  {
   "cell_type": "code",
   "execution_count": 43,
   "metadata": {},
   "outputs": [
    {
     "name": "stdout",
     "output_type": "stream",
     "text": [
      "Empty DataFrame\n",
      "Columns: [participantID, w1scan_scannotes]\n",
      "Index: []\n"
     ]
    }
   ],
   "source": []
  },
  {
   "cell_type": "code",
   "execution_count": null,
   "metadata": {},
   "outputs": [],
   "source": []
  }
 ],
 "metadata": {
  "kernelspec": {
   "display_name": "Python 3",
   "language": "python",
   "name": "python3"
  },
  "language_info": {
   "codemirror_mode": {
    "name": "ipython",
    "version": 3
   },
   "file_extension": ".py",
   "mimetype": "text/x-python",
   "name": "python",
   "nbconvert_exporter": "python",
   "pygments_lexer": "ipython3",
   "version": "3.7.3"
  }
 },
 "nbformat": 4,
 "nbformat_minor": 4
}
