{
 "cells": [
  {
   "cell_type": "code",
   "execution_count": 187,
   "metadata": {},
   "outputs": [],
   "source": [
    "import glob, os\n",
    "import pandas as pd\n",
    "import pdb\n",
    "import subprocess\n",
    "from IPython.core import display as ICD\n",
    "pd.options.display.max_rows\n",
    "pd.set_option('display.max_colwidth', -1)\n",
    "import numpy as np"
   ]
  },
  {
   "cell_type": "code",
   "execution_count": 5,
   "metadata": {},
   "outputs": [
    {
     "name": "stdout",
     "output_type": "stream",
     "text": [
      "Expected subject range:  1 - 158\n"
     ]
    }
   ],
   "source": [
    "bids_path = '/projects/niblab/bids_projects/Experiments/bbx/bids/'"
   ]
  },
  {
   "cell_type": "code",
   "execution_count": 45,
   "metadata": {},
   "outputs": [],
   "source": [
    "# get scan notes\n",
    "df_w1_notes=pd.read_csv('w1_notes.csv', encoding='latin-1')\n",
    "#df_w1_notes.head()\n",
    "#df_w1_notes.columns\n",
    "df_clean=df_w1_notes[['participantID', 'w1scan_scannotes']]\n",
    "\n",
    "df_clean.set_index(\"participantID\", inplace=True)\n",
    "df_clean.index = df_clean.index.str.lower()\n",
    "df_clean = df_clean.drop(['participant id (bbx_###)'])"
   ]
  },
  {
   "cell_type": "markdown",
   "metadata": {},
   "source": [
    "## DICOM Check"
   ]
  },
  {
   "cell_type": "code",
   "execution_count": 120,
   "metadata": {},
   "outputs": [
    {
     "name": "stdout",
     "output_type": "stream",
     "text": [
      "\n",
      "Expected subject count: 142 \tUnique DICOM directories found: 144\n",
      "\n",
      "Missing DICOM directories for IDs: [] \n",
      "\n",
      "Missing scan note IDs, but found DICOM directories: ['154', '155'] \n",
      "\n"
     ]
    }
   ],
   "source": [
    "\n",
    "# Get DICOM id list\n",
    "s1_dcms = [x.split(\"/\")[-1].split(\"-\")[1].lstrip(\"0\") for x in\n",
    "             glob.glob(os.path.join(bids_path, \"sourcedata/DICOM/ses-1/sub-*\"))]\n",
    "s1_dcms = np.unique(np.array(s1_dcms)).tolist()\n",
    "# get expected id list from notes\n",
    "s1_sub_ids = sorted([x.split(\"_\")[1].lstrip('0') for x in df_clean.index.values])\n",
    "s1_sub_ids = np.unique(np.array(s1_sub_ids)).tolist()\n",
    "\n",
    "# get total count for DICOM and expected id lists\n",
    "s1_sub_exp_ct = len(s1_sub_ids)\n",
    "s1_sub_dcm_ct = len(s1_dcms)\n",
    "\n",
    "# return the unique values in ar1 that are not in ar2\n",
    "# ids found in dicom directory but not id list\n",
    "s1_mia_id = np.setdiff1d(s1_dcms, s1_sub_ids)\n",
    "\n",
    "# ids missing from dicom directories\n",
    "s1_mia_dcm = np.setdiff1d(s1_sub_id_lst, s1_dcms)\n",
    "\n",
    "s1_mia_id = s1_mia_id.tolist()\n",
    "s1_mia_dcm = s1_mia_dcm.tolist()\n",
    "\n",
    "# look at scan notes for any missing DICOM ids\n",
    "for id_ in s1_mia_dcm:\n",
    "    bbx_id = \"bbx_{:03d}\".format(int(id_))\n",
    "    try:\n",
    "        print(\"{}, notes: \\n{}\".format(bbx_id, df_clean.loc[bbx_id]))\n",
    "    except:\n",
    "        print(\"Missing scan notes for \", bbx_id)\n",
    "\n",
    "## Report Output\n",
    "print(\"\\nExpected subject count: {} \\tUnique DICOM directories found: {}\".format(s1_sub_exp_ct, s1_sub_dcm_ct))\n",
    "print(\"\\nMissing DICOM directories for IDs: {} \\n\\nMissing scan note IDs, but found DICOM directories: {} \\n\".format(s1_mia_dcm, s1_mia_id))\n",
    "\n"
   ]
  },
  {
   "cell_type": "markdown",
   "metadata": {},
   "source": [
    "## BIDS Check  \n",
    "Other:    \n",
    "* BIDS validator  \n",
    "* Volume Check\n",
    "#### Compare DICOM ids with BIDS ids found, list any missing from BIDS"
   ]
  },
  {
   "cell_type": "code",
   "execution_count": 252,
   "metadata": {},
   "outputs": [
    {
     "name": "stdout",
     "output_type": "stream",
     "text": [
      "Unique BIDS subject count: 144 \n",
      "Missing IDs: \t[] \n",
      "\n"
     ]
    }
   ],
   "source": [
    "s1_bids = np.unique(np.array([x.split(\"/\")[-2].split(\"-\")[1].lstrip(\"0\") for x in\n",
    "             glob.glob(os.path.join(bids_path, \"sub-*/ses-1\"))])).tolist()\n",
    "s1_bids_ct = len(s1_bids)\n",
    "\n",
    "# subjects found in DICOM list but not in bids\n",
    "s1_mia_bids = np.setdiff1d(s1_dcms, s1_bids)\n",
    "\n",
    "print(\"Unique BIDS subject count: {} \\nMissing IDs: \\t{} \\n\".format(s1_bids_ct, s1_mia_bids))\n"
   ]
  },
  {
   "cell_type": "markdown",
   "metadata": {},
   "source": [
    "#### Fill in a dictionary with subject ids and find their directories:  \n",
    "#### *Value of 1 translates that the directory and files are missing*"
   ]
  },
  {
   "cell_type": "code",
   "execution_count": 253,
   "metadata": {},
   "outputs": [],
   "source": [
    "\n",
    "# if no missing IDs found, that is good, meaning we have at least attempted to generate all of the subject directories available\n",
    "# now we have to inspect individual directories\n",
    "qa_dict={}\n",
    "bids_dirs = glob.glob(os.path.join(bids_path, \"sub-*/ses-1\"))\n",
    "for dir_path in sorted(bids_dirs):\n",
    "    sub_id = dir_path.split(\"/\")[-2]\n",
    "    if sub_id not in qa_dict:\n",
    "        qa_dict[sub_id] = {\n",
    "            \"FUNC\": 0,\n",
    "            \"FMAP\": 0,\n",
    "            \"ANAT\": 0\n",
    "        }\n",
    "        \n",
    "    funcs=glob.glob(os.path.join(dir_path, \"func/*\"))\n",
    "    anat=glob.glob(os.path.join(dir_path, \"fmap/*\"))\n",
    "    fmaps=glob.glob(os.path.join(dir_path, \"anat/*\"))\n",
    "    #print(\"Analysis of {}:\".format(sub_id))\n",
    "    if not funcs:\n",
    "        qa_dict[sub_id][\"FUNC\"] = 1\n",
    "    if not fmaps:\n",
    "        qa_dict[sub_id][\"FMAP\"] = 1\n",
    "    if not anat:\n",
    "        qa_dict[sub_id][\"ANAT\"] = 1\n",
    "    \n",
    "    \n",
    "    "
   ]
  },
  {
   "cell_type": "code",
   "execution_count": 254,
   "metadata": {},
   "outputs": [],
   "source": [
    "bids_df = pd.DataFrame(qa_dict).T"
   ]
  },
  {
   "cell_type": "code",
   "execution_count": 255,
   "metadata": {},
   "outputs": [],
   "source": [
    "missing_df = bids_df[bids_df.any(axis=\"columns\")]"
   ]
  },
  {
   "cell_type": "code",
   "execution_count": 256,
   "metadata": {
    "scrolled": true
   },
   "outputs": [
    {
     "data": {
      "text/html": [
       "<div>\n",
       "<style scoped>\n",
       "    .dataframe tbody tr th:only-of-type {\n",
       "        vertical-align: middle;\n",
       "    }\n",
       "\n",
       "    .dataframe tbody tr th {\n",
       "        vertical-align: top;\n",
       "    }\n",
       "\n",
       "    .dataframe thead th {\n",
       "        text-align: right;\n",
       "    }\n",
       "</style>\n",
       "<table border=\"1\" class=\"dataframe\">\n",
       "  <thead>\n",
       "    <tr style=\"text-align: right;\">\n",
       "      <th></th>\n",
       "      <th>FUNC</th>\n",
       "      <th>FMAP</th>\n",
       "      <th>ANAT</th>\n",
       "    </tr>\n",
       "  </thead>\n",
       "  <tbody>\n",
       "    <tr>\n",
       "      <th>sub-025</th>\n",
       "      <td>1</td>\n",
       "      <td>0</td>\n",
       "      <td>1</td>\n",
       "    </tr>\n",
       "    <tr>\n",
       "      <th>sub-094</th>\n",
       "      <td>0</td>\n",
       "      <td>0</td>\n",
       "      <td>1</td>\n",
       "    </tr>\n",
       "    <tr>\n",
       "      <th>sub-104</th>\n",
       "      <td>1</td>\n",
       "      <td>0</td>\n",
       "      <td>1</td>\n",
       "    </tr>\n",
       "    <tr>\n",
       "      <th>sub-115</th>\n",
       "      <td>1</td>\n",
       "      <td>0</td>\n",
       "      <td>0</td>\n",
       "    </tr>\n",
       "    <tr>\n",
       "      <th>sub-117</th>\n",
       "      <td>1</td>\n",
       "      <td>0</td>\n",
       "      <td>0</td>\n",
       "    </tr>\n",
       "    <tr>\n",
       "      <th>sub-128</th>\n",
       "      <td>0</td>\n",
       "      <td>0</td>\n",
       "      <td>1</td>\n",
       "    </tr>\n",
       "    <tr>\n",
       "      <th>sub-134</th>\n",
       "      <td>1</td>\n",
       "      <td>0</td>\n",
       "      <td>1</td>\n",
       "    </tr>\n",
       "    <tr>\n",
       "      <th>sub-155</th>\n",
       "      <td>1</td>\n",
       "      <td>0</td>\n",
       "      <td>0</td>\n",
       "    </tr>\n",
       "  </tbody>\n",
       "</table>\n",
       "</div>"
      ],
      "text/plain": [
       "         FUNC  FMAP  ANAT\n",
       "sub-025  1     0     1   \n",
       "sub-094  0     0     1   \n",
       "sub-104  1     0     1   \n",
       "sub-115  1     0     0   \n",
       "sub-117  1     0     0   \n",
       "sub-128  0     0     1   \n",
       "sub-134  1     0     1   \n",
       "sub-155  1     0     0   "
      ]
     },
     "metadata": {},
     "output_type": "display_data"
    }
   ],
   "source": [
    "ICD.display(missing_df.head(20))"
   ]
  },
  {
   "cell_type": "code",
   "execution_count": 257,
   "metadata": {},
   "outputs": [],
   "source": [
    "bids_ids_mia=list(missing_df.index.values)"
   ]
  },
  {
   "cell_type": "code",
   "execution_count": 258,
   "metadata": {},
   "outputs": [],
   "source": [
    "!module load tree/1.8.0"
   ]
  },
  {
   "cell_type": "code",
   "execution_count": 259,
   "metadata": {},
   "outputs": [
    {
     "name": "stdout",
     "output_type": "stream",
     "text": [
      "\n",
      "ID:  sub-025\n",
      "\n",
      "Files Found: \n",
      "/projects/niblab/bids_projects/Experiments/bbx/bids/sub-025/ses-1/anat\n",
      "/projects/niblab/bids_projects/Experiments/bbx/bids/sub-025/ses-1/sub-025_ses-1_scans.tsv\n",
      "\n",
      "DIRECTORIES FOUND MISSING: \n"
     ]
    },
    {
     "data": {
      "text/plain": [
       "FUNC    1\n",
       "FMAP    0\n",
       "ANAT    1\n",
       "Name: sub-025, dtype: int64"
      ]
     },
     "metadata": {},
     "output_type": "display_data"
    },
    {
     "name": "stdout",
     "output_type": "stream",
     "text": [
      "SCAN NOTES (IF AVAILABLE):\n",
      "\n",
      "No scan notes found\n",
      "____________________________________\n",
      "\n",
      "ID:  sub-094\n",
      "\n",
      "Files Found: \n",
      "/projects/niblab/bids_projects/Experiments/bbx/bids/sub-094/ses-1/anat\n",
      "/projects/niblab/bids_projects/Experiments/bbx/bids/sub-094/ses-1/sub-094_ses-1_scans.tsv\n",
      "/projects/niblab/bids_projects/Experiments/bbx/bids/sub-094/ses-1/func\n",
      "\n",
      "DIRECTORIES FOUND MISSING: \n"
     ]
    },
    {
     "data": {
      "text/plain": [
       "FUNC    0\n",
       "FMAP    0\n",
       "ANAT    1\n",
       "Name: sub-094, dtype: int64"
      ]
     },
     "metadata": {},
     "output_type": "display_data"
    },
    {
     "name": "stdout",
     "output_type": "stream",
     "text": [
      "SCAN NOTES (IF AVAILABLE):\n"
     ]
    },
    {
     "data": {
      "text/plain": [
       "w1scan_scannotes    Consistently moderate twitching motion throughout due to swallowing \n",
       "Name: bbx_094, dtype: object"
      ]
     },
     "metadata": {},
     "output_type": "display_data"
    },
    {
     "name": "stdout",
     "output_type": "stream",
     "text": [
      "____________________________________\n",
      "\n",
      "ID:  sub-104\n",
      "\n",
      "Files Found: \n",
      "/projects/niblab/bids_projects/Experiments/bbx/bids/sub-104/ses-1/anat\n",
      "/projects/niblab/bids_projects/Experiments/bbx/bids/sub-104/ses-1/sub-104_ses-1_scans.tsv\n",
      "\n",
      "DIRECTORIES FOUND MISSING: \n"
     ]
    },
    {
     "data": {
      "text/plain": [
       "FUNC    1\n",
       "FMAP    0\n",
       "ANAT    1\n",
       "Name: sub-104, dtype: int64"
      ]
     },
     "metadata": {},
     "output_type": "display_data"
    },
    {
     "name": "stdout",
     "output_type": "stream",
     "text": [
      "SCAN NOTES (IF AVAILABLE):\n"
     ]
    },
    {
     "data": {
      "text/plain": [
       "w1scan_scannotes    Motion throughout that was worst for T1 and first taste run \n",
       "Name: bbx_104, dtype: object"
      ]
     },
     "metadata": {},
     "output_type": "display_data"
    },
    {
     "name": "stdout",
     "output_type": "stream",
     "text": [
      "____________________________________\n",
      "\n",
      "ID:  sub-115\n",
      "\n",
      "Files Found: \n",
      "/projects/niblab/bids_projects/Experiments/bbx/bids/sub-115/ses-1/anat\n",
      "/projects/niblab/bids_projects/Experiments/bbx/bids/sub-115/ses-1/sub-115_ses-1_scans.tsv\n",
      "/projects/niblab/bids_projects/Experiments/bbx/bids/sub-115/ses-1/fmap\n",
      "\n",
      "DIRECTORIES FOUND MISSING: \n"
     ]
    },
    {
     "data": {
      "text/plain": [
       "FUNC    1\n",
       "FMAP    0\n",
       "ANAT    0\n",
       "Name: sub-115, dtype: int64"
      ]
     },
     "metadata": {},
     "output_type": "display_data"
    },
    {
     "name": "stdout",
     "output_type": "stream",
     "text": [
      "SCAN NOTES (IF AVAILABLE):\n"
     ]
    },
    {
     "data": {
      "text/plain": [
       "w1scan_scannotes    Has some seasonal allergies so had to come out to cough after first taste run but then did better \n",
       "Name: bbx_115, dtype: object"
      ]
     },
     "metadata": {},
     "output_type": "display_data"
    },
    {
     "name": "stdout",
     "output_type": "stream",
     "text": [
      "____________________________________\n",
      "\n",
      "ID:  sub-117\n",
      "\n",
      "Files Found: \n",
      "/projects/niblab/bids_projects/Experiments/bbx/bids/sub-117/ses-1/anat\n",
      "/projects/niblab/bids_projects/Experiments/bbx/bids/sub-117/ses-1/sub-117_ses-1_scans.tsv\n",
      "/projects/niblab/bids_projects/Experiments/bbx/bids/sub-117/ses-1/fmap\n",
      "\n",
      "DIRECTORIES FOUND MISSING: \n"
     ]
    },
    {
     "data": {
      "text/plain": [
       "FUNC    1\n",
       "FMAP    0\n",
       "ANAT    0\n",
       "Name: sub-117, dtype: int64"
      ]
     },
     "metadata": {},
     "output_type": "display_data"
    },
    {
     "name": "stdout",
     "output_type": "stream",
     "text": [
      "SCAN NOTES (IF AVAILABLE):\n"
     ]
    },
    {
     "data": {
      "text/plain": [
       "w1scan_scannotes    Good \n",
       "Name: bbx_117, dtype: object"
      ]
     },
     "metadata": {},
     "output_type": "display_data"
    },
    {
     "name": "stdout",
     "output_type": "stream",
     "text": [
      "____________________________________\n",
      "\n",
      "ID:  sub-128\n",
      "\n",
      "Files Found: \n",
      "/projects/niblab/bids_projects/Experiments/bbx/bids/sub-128/ses-1/anat\n",
      "/projects/niblab/bids_projects/Experiments/bbx/bids/sub-128/ses-1/sub-128_ses-1_scans.tsv\n",
      "/projects/niblab/bids_projects/Experiments/bbx/bids/sub-128/ses-1/func\n",
      "\n",
      "DIRECTORIES FOUND MISSING: \n"
     ]
    },
    {
     "data": {
      "text/plain": [
       "FUNC    0\n",
       "FMAP    0\n",
       "ANAT    1\n",
       "Name: sub-128, dtype: int64"
      ]
     },
     "metadata": {},
     "output_type": "display_data"
    },
    {
     "name": "stdout",
     "output_type": "stream",
     "text": [
      "SCAN NOTES (IF AVAILABLE):\n"
     ]
    },
    {
     "data": {
      "text/plain": [
       "w1scan_scannotes    Some movement throughout but not too bad \n",
       "Name: bbx_128, dtype: object"
      ]
     },
     "metadata": {},
     "output_type": "display_data"
    },
    {
     "name": "stdout",
     "output_type": "stream",
     "text": [
      "____________________________________\n",
      "\n",
      "ID:  sub-134\n",
      "\n",
      "Files Found: \n",
      "/projects/niblab/bids_projects/Experiments/bbx/bids/sub-134/ses-1/anat\n",
      "/projects/niblab/bids_projects/Experiments/bbx/bids/sub-134/ses-1/sub-134_ses-1_scans.tsv\n",
      "\n",
      "DIRECTORIES FOUND MISSING: \n"
     ]
    },
    {
     "data": {
      "text/plain": [
       "FUNC    1\n",
       "FMAP    0\n",
       "ANAT    1\n",
       "Name: sub-134, dtype: int64"
      ]
     },
     "metadata": {},
     "output_type": "display_data"
    },
    {
     "name": "stdout",
     "output_type": "stream",
     "text": [
      "SCAN NOTES (IF AVAILABLE):\n"
     ]
    },
    {
     "data": {
      "text/plain": [
       "w1scan_scannotes    Excellent job after redoing the anatomical \n",
       "Name: bbx_134, dtype: object"
      ]
     },
     "metadata": {},
     "output_type": "display_data"
    },
    {
     "name": "stdout",
     "output_type": "stream",
     "text": [
      "____________________________________\n",
      "\n",
      "ID:  sub-155\n",
      "\n",
      "Files Found: \n",
      "/projects/niblab/bids_projects/Experiments/bbx/bids/sub-155/ses-1/anat\n",
      "/projects/niblab/bids_projects/Experiments/bbx/bids/sub-155/ses-1/sub-155_ses-1_scans.tsv\n",
      "/projects/niblab/bids_projects/Experiments/bbx/bids/sub-155/ses-1/fmap\n",
      "\n",
      "DIRECTORIES FOUND MISSING: \n"
     ]
    },
    {
     "data": {
      "text/plain": [
       "FUNC    1\n",
       "FMAP    0\n",
       "ANAT    0\n",
       "Name: sub-155, dtype: int64"
      ]
     },
     "metadata": {},
     "output_type": "display_data"
    },
    {
     "name": "stdout",
     "output_type": "stream",
     "text": [
      "SCAN NOTES (IF AVAILABLE):\n",
      "\n",
      "No scan notes found\n",
      "____________________________________\n"
     ]
    }
   ],
   "source": [
    "\n",
    "for sub_id in missing_df.index.values:\n",
    "    print(\"\\nID: \",sub_id)\n",
    "    dir_path = glob.glob(os.path.join(bids_path, sub_id, \"ses-1/*\"))\n",
    "    print(\"\\nFiles Found: \")\n",
    "    for z in dir_path:\n",
    "        print(z)\n",
    "    try:\n",
    "        print(\"\\nDIRECTORIES FOUND MISSING: \")\n",
    "        ICD.display( missing_df.loc[sub_id])\n",
    "        print(\"SCAN NOTES (IF AVAILABLE):\")\n",
    "        ICD.display( df_clean.loc[sub_id.replace(\"sub-\", \"bbx_\")])\n",
    "    except:\n",
    "        print(\"\\nNo scan notes found\")\n",
    "    print(\"____________________________________\")"
   ]
  },
  {
   "cell_type": "markdown",
   "metadata": {},
   "source": [
    "### Notes:  \n",
    "* sub-025 might have to be eliminated, will not run through bids further inspection needed.  "
   ]
  },
  {
   "cell_type": "code",
   "execution_count": 260,
   "metadata": {},
   "outputs": [
    {
     "data": {
      "text/plain": [
       "['sub-025',\n",
       " 'sub-094',\n",
       " 'sub-104',\n",
       " 'sub-115',\n",
       " 'sub-117',\n",
       " 'sub-128',\n",
       " 'sub-134',\n",
       " 'sub-155']"
      ]
     },
     "execution_count": 260,
     "metadata": {},
     "output_type": "execute_result"
    }
   ],
   "source": [
    "bids_ids_mia"
   ]
  },
  {
   "cell_type": "code",
   "execution_count": null,
   "metadata": {},
   "outputs": [],
   "source": []
  }
 ],
 "metadata": {
  "kernelspec": {
   "display_name": "Python 3",
   "language": "python",
   "name": "python3"
  },
  "language_info": {
   "codemirror_mode": {
    "name": "ipython",
    "version": 3
   },
   "file_extension": ".py",
   "mimetype": "text/x-python",
   "name": "python",
   "nbconvert_exporter": "python",
   "pygments_lexer": "ipython3",
   "version": "3.7.4"
  }
 },
 "nbformat": 4,
 "nbformat_minor": 2
}
