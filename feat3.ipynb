{
 "cells": [
  {
   "cell_type": "markdown",
   "metadata": {},
   "source": [
    "# Feat 3"
   ]
  },
  {
   "cell_type": "code",
   "execution_count": 3,
   "metadata": {},
   "outputs": [],
   "source": [
    "import glob, os, re"
   ]
  },
  {
   "cell_type": "code",
   "execution_count": 4,
   "metadata": {},
   "outputs": [],
   "source": [
    "# get GOOD subjects"
   ]
  },
  {
   "cell_type": "code",
   "execution_count": 5,
   "metadata": {},
   "outputs": [],
   "source": [
    "deriv_path = '/projects/niblab/bids_projects/Experiments/bbx/bids/derivatives'\n"
   ]
  },
  {
   "cell_type": "code",
   "execution_count": 6,
   "metadata": {},
   "outputs": [],
   "source": [
    "omit=[]\n",
    "ids=['sub-001', 'sub-002', 'sub-003', 'sub-004', 'sub-005', 'sub-006', 'sub-007', 'sub-008', 'sub-009', 'sub-010', 'sub-011', 'sub-012', 'sub-013', 'sub-014', 'sub-015', 'sub-016', 'sub-017', 'sub-018', 'sub-019', 'sub-020', 'sub-021', 'sub-022', 'sub-023', 'sub-024', 'sub-025', 'sub-026', 'sub-027', 'sub-028', 'sub-030', 'sub-031', 'sub-032', 'sub-033', 'sub-034', 'sub-035', 'sub-036', 'sub-037', 'sub-038', 'sub-039', 'sub-040', 'sub-041', 'sub-043', 'sub-044', 'sub-045', 'sub-046', 'sub-048', 'sub-050', 'sub-051', 'sub-053', 'sub-054', 'sub-055', 'sub-056', 'sub-057', 'sub-058', 'sub-059', 'sub-060', 'sub-061', 'sub-062', 'sub-063', 'sub-064', 'sub-065', 'sub-066', 'sub-067', 'sub-068', 'sub-070', 'sub-071', 'sub-072', 'sub-075', 'sub-076', 'sub-078', 'sub-079', 'sub-080', 'sub-082', 'sub-083', 'sub-084', 'sub-085', 'sub-086', 'sub-087', 'sub-088', 'sub-089', 'sub-090', 'sub-091', 'sub-092', 'sub-093', 'sub-095', 'sub-096', 'sub-097', 'sub-098', 'sub-099', 'sub-100', 'sub-102', 'sub-103', 'sub-104', 'sub-107', 'sub-108', 'sub-109', 'sub-111', 'sub-112', 'sub-114', 'sub-115', 'sub-116', 'sub-117', 'sub-118', 'sub-119', 'sub-120', 'sub-121', 'sub-123', 'sub-124', 'sub-127', 'sub-129', 'sub-130', 'sub-131', 'sub-132', 'sub-133', 'sub-134', 'sub-135', 'sub-136', 'sub-137', 'sub-138', 'sub-140', 'sub-141', 'sub-142', 'sub-143', 'sub-144', 'sub-145', 'sub-146', 'sub-147', 'sub-149', 'sub-150', 'sub-159']\n",
    "\n"
   ]
  },
  {
   "cell_type": "code",
   "execution_count": 7,
   "metadata": {},
   "outputs": [
    {
     "name": "stdout",
     "output_type": "stream",
     "text": [
      "32\n"
     ]
    }
   ],
   "source": [
    "ids=sorted(ids)\n",
    "sep=int(len(ids)/2)\n",
    "p1=ids[:sep]\n",
    "p2=ids[sep:]\n",
    "sep2=int(len(p2)/2)\n",
    "print(sep2)\n",
    "p2_1 = p2[:sep2]\n",
    "p2_2 = p2[sep2:]\n",
    "sep3 = int(len(p2_2)/2)\n",
    "p3_1 = p2_2[:sep3]\n",
    "p3_2 = p2_2[sep3:]\n",
    "sep4 = int(len(p3_2)/2)\n",
    "p4_1 = p3_2[:sep4]\n",
    "p4_2 = p3_2[sep4:]"
   ]
  },
  {
   "cell_type": "code",
   "execution_count": null,
   "metadata": {},
   "outputs": [],
   "source": []
  },
  {
   "cell_type": "code",
   "execution_count": 18,
   "metadata": {},
   "outputs": [
    {
     "name": "stdout",
     "output_type": "stream",
     "text": [
      ">>>-----> Writing output file:  /projects/niblab/bids_projects/Experiments/bbx/bids/derivatives/analysis/feat3/ses-1/SSBcue_129.fsf\n",
      ">>>-----> Writing output file:  /projects/niblab/bids_projects/Experiments/bbx/bids/derivatives/analysis/feat3/ses-1/USBcue_129.fsf\n",
      ">>>-----> Writing output file:  /projects/niblab/bids_projects/Experiments/bbx/bids/derivatives/analysis/feat3/ses-1/H2Ocue_129.fsf\n",
      ">>>-----> Writing output file:  /projects/niblab/bids_projects/Experiments/bbx/bids/derivatives/analysis/feat3/ses-1/SSBtaste_129.fsf\n",
      ">>>-----> Writing output file:  /projects/niblab/bids_projects/Experiments/bbx/bids/derivatives/analysis/feat3/ses-1/USBtaste_129.fsf\n",
      ">>>-----> Writing output file:  /projects/niblab/bids_projects/Experiments/bbx/bids/derivatives/analysis/feat3/ses-1/H2Otaste_129.fsf\n",
      ">>>-----> Writing output file:  /projects/niblab/bids_projects/Experiments/bbx/bids/derivatives/analysis/feat3/ses-1/SSBcue_gt_H2Ocue_129.fsf\n",
      ">>>-----> Writing output file:  /projects/niblab/bids_projects/Experiments/bbx/bids/derivatives/analysis/feat3/ses-1/USBcue_gt_H2Ocue_129.fsf\n",
      ">>>-----> Writing output file:  /projects/niblab/bids_projects/Experiments/bbx/bids/derivatives/analysis/feat3/ses-1/SSBcue_+_USBcue_gt_H2Ocue_129.fsf\n",
      ">>>-----> Writing output file:  /projects/niblab/bids_projects/Experiments/bbx/bids/derivatives/analysis/feat3/ses-1/SSBtaste_gt_H2Otaste_129.fsf\n",
      ">>>-----> Writing output file:  /projects/niblab/bids_projects/Experiments/bbx/bids/derivatives/analysis/feat3/ses-1/USBtaste_gt_H2Otaste_129.fsf\n",
      ">>>-----> Writing output file:  /projects/niblab/bids_projects/Experiments/bbx/bids/derivatives/analysis/feat3/ses-1/SSBtaste_+_USBtaste_gt_H2Otaste_129.fsf\n",
      ">>>-----> Writing output file:  /projects/niblab/bids_projects/Experiments/bbx/bids/derivatives/analysis/feat3/ses-1/H2Otaste_gt_rinse_129.fsf\n",
      ">>>-----> Writing output file:  /projects/niblab/bids_projects/Experiments/bbx/bids/derivatives/analysis/feat3/ses-1/SSBcue_gt_USBcue_129.fsf\n",
      ">>>-----> Writing output file:  /projects/niblab/bids_projects/Experiments/bbx/bids/derivatives/analysis/feat3/ses-1/USBcue_gt_SSBcue_129.fsf\n",
      ">>>-----> Writing output file:  /projects/niblab/bids_projects/Experiments/bbx/bids/derivatives/analysis/feat3/ses-1/SSBtaste_gt_USBtaste_129.fsf\n",
      ">>>-----> Writing output file:  /projects/niblab/bids_projects/Experiments/bbx/bids/derivatives/analysis/feat3/ses-1/USBtaste_gt_SSBtaste_129.fsf\n",
      ">>>-----> Complete. \n",
      "['sub-070', 'sub-001', 'sub-051', 'sub-002', 'sub-003', 'sub-004', 'sub-005', 'sub-006', 'sub-007', 'sub-008', 'sub-009', 'sub-010', 'sub-011', 'sub-012', 'sub-053', 'sub-054', 'sub-013', 'sub-014', 'sub-015', 'sub-016', 'sub-017', 'sub-018', 'sub-055', 'sub-019', 'sub-056', 'sub-020', 'sub-021', 'sub-057', 'sub-022', 'sub-058', 'sub-023', 'sub-024', 'sub-025', 'sub-026', 'sub-027', 'sub-059', 'sub-060', 'sub-031', 'sub-032', 'sub-033', 'sub-034', 'sub-061', 'sub-035', 'sub-036', 'sub-037', 'sub-038', 'sub-062', 'sub-039', 'sub-040', 'sub-063', 'sub-041', 'sub-064', 'sub-066', 'sub-043', 'sub-067', 'sub-068', 'sub-044', 'sub-072', 'sub-045', 'sub-046', 'sub-048', 'sub-050', 'sub-095', 'sub-096', 'sub-097', 'sub-098', 'sub-099', 'sub-100', 'sub-102', 'sub-103', 'sub-104', 'sub-107', 'sub-108', 'sub-109', 'sub-111', 'sub-112', 'sub-114', 'sub-115', 'sub-116', 'sub-117', 'sub-118', 'sub-119', 'sub-120', 'sub-121', 'sub-123', 'sub-124', 'sub-028', 'sub-030', 'sub-065', 'sub-071', 'sub-075', 'sub-076', 'sub-078', 'sub-079', 'sub-080', 'sub-082', 'sub-083', 'sub-084', 'sub-085', 'sub-086', 'sub-087', 'sub-088', 'sub-089', 'sub-090', 'sub-091', 'sub-092', 'sub-093', 'sub-127', 'sub-129', 'sub-130', 'sub-131', 'sub-132', 'sub-133', 'sub-134', 'sub-135', 'sub-136', 'sub-137', 'sub-138', 'sub-140', 'sub-141', 'sub-141++', 'sub-142', 'sub-143', 'sub-144', 'sub-145', 'sub-146', 'sub-147', 'sub-149', 'sub-150', 'sub-159', 'sub-159+']\n"
     ]
    }
   ],
   "source": [
    "\n",
    "def make_dict(cope_dict,x):\n",
    "    cope_dict[x] = {}\n",
    "\n",
    "\n",
    "def make_fsfs(num_of_copes, template_file, deriv_dir, cope_dict):\n",
    "\n",
    "    # loop through copes and make design file for each\n",
    "    for cope_num in range(1, num_of_copes+1):\n",
    "        if cope_num == 1:\n",
    "            cope_name = \"SSBcue\"\n",
    "        elif cope_num == 2:\n",
    "            cope_name = \"USBcue\"\n",
    "        elif cope_num == 3:\n",
    "            cope_name = \"H2Ocue\"\n",
    "        elif cope_num == 4:\n",
    "            cope_name = \"SSBtaste\"\n",
    "        elif cope_num == 5:\n",
    "            cope_name = \"USBtaste\"\n",
    "        elif cope_num == 6:\n",
    "            cope_name =  \"H2Otaste\"\n",
    "        elif cope_num == 7:\n",
    "            cope_name = \"SSBcue_gt_H2Ocue\"\n",
    "        elif cope_num == 8:\n",
    "            cope_name = \"USBcue_gt_H2Ocue\"\n",
    "        elif cope_num == 9:\n",
    "            cope_name = \"SSBcue_+_USBcue_gt_H2Ocue\"\n",
    "        elif cope_num == 10:\n",
    "            cope_name = \"SSBtaste_gt_H2Otaste\"\n",
    "        elif cope_num == 11:\n",
    "            cope_name = \"USBtaste_gt_H2Otaste\"\n",
    "        elif cope_num == 12:\n",
    "            cope_name = \"SSBtaste_+_USBtaste_gt_H2Otaste\"\n",
    "        elif cope_num == 13:\n",
    "            cope_name = \"H2Otaste_gt_rinse\"\n",
    "        elif cope_num == 14:\n",
    "            cope_name = \"SSBcue_gt_USBcue\"\n",
    "        elif cope_num == 15:\n",
    "            cope_name = \"USBcue_gt_SSBcue\"\n",
    "        elif cope_num == 16:\n",
    "            cope_name = \"SSBtaste_gt_USBtaste\"\n",
    "        else:\n",
    "            cope_name=\"USBtaste_gt_SSBtaste\"\n",
    "            \n",
    "        make_dict(cope_dict, cope_num)\n",
    "        #OUTPUTDIR = os.path.join(deriv_dir, 'group_ana/cope%s_ses-1'%cope_num)\n",
    "        OUTPUTDIR = os.path.join(deriv_dir, 'analysis/feat3/ses-1/%s_129'%cope_name)\n",
    "        \n",
    "        #print(\">>>---> REPLACING 'OUTPUT' > %s\"%OUTPUTDIR)\n",
    "        sess = 'ses-1'\n",
    "        #print(\"RUNNING ON SESSION \", sess )\n",
    "        COPES = glob.glob(os.path.join(deriv_dir, \"sub-*\", sess,'func/Analysis/feat2/sub-*.gfeat/cope%s.feat'%cope_num))\n",
    "        #COPES = [x for x in COPES if x.split(\"/\")[-2].split(\".\")[0] not in omit]\n",
    "        sub_list= [x.split(\"/\")[-2].split(\".\")[0] for x in COPES]\n",
    "        COPES = sorted(COPES)\n",
    "        #print(len(COPES))\n",
    "        #subs=[x.split(\"/\")[-2].split(\".\")[0] for x in COPES]\n",
    "        # fill dictionary\n",
    "        for x,cope in enumerate(COPES):\n",
    "            count=int(x)+1\n",
    "            #print(count)\n",
    "            if count > 9:\n",
    "                INPUTX = \"INPUT_%i\"%(count)\n",
    "            else:\n",
    "                INPUTX = \"INPUT%i\"%(count)\n",
    "                \n",
    "            #print(INPUTX, cope.split(\"/\")[-2:])\n",
    "            cope_dict[cope_num][INPUTX] = cope\n",
    "            #print(\"%s : \\t%s\"%(INPUTX,cope))\n",
    "        #print(cope_dict)\n",
    "        \n",
    "        # open and fill template file\n",
    "        with open(template_file, 'r') as infile:\n",
    "            tempfsf=infile.read()\n",
    "            tempfsf = tempfsf.replace(\"OUTPUT\", OUTPUTDIR)\n",
    "            for input_title in sorted(cope_dict[cope_num]):\n",
    "                input_ = cope_dict[cope_num][input_title]\n",
    "                #print(input_title, input_.split(\"/\")[-2:-1])\n",
    "                #print(\"\\nTITLE: \\t{} \\n\\nINPUT: \\t{}\".format(input_title,input_))\n",
    "                #input_match = re.compile(r\"\\b%s\\b\"%(input_title))\n",
    "                #print(input_match)\n",
    "                tempfsf = re.sub(r\"\\b%s\\b\"%(input_title), input_, tempfsf)\n",
    "                #tempfsf = tempfsf.replace(\"%s\"%input_match, input_)\n",
    "            OUTFILE_PATH = os.path.join(deriv_dir, 'analysis/feat3/ses-1/%s_129.fsf'%(cope_name))\n",
    "            #print(tempfsf)\n",
    "            with open(OUTFILE_PATH, 'w') as outfile:\n",
    "                print(\">>>-----> Writing output file: \", OUTFILE_PATH)\n",
    "                outfile.write(tempfsf)\n",
    "            outfile.close()\n",
    "        infile.close()\n",
    "    print(\">>>-----> Complete. \")\n",
    "    print(sub_list)\n",
    "def main():\n",
    "    # SET OUR RELEVANT PATHS\n",
    "    deriv_dir = \"/projects/niblab/bids_projects/Experiments/bbx/bids/derivatives\"\n",
    "    #cope_dict[x] = {}\n",
    "\n",
    "    template_file = os.path.join('/projects/niblab/bids_projects/Experiments/bbx/bids/code/feat3/design3_129.fsf')\n",
    "    # get the number of cope files to make (# of copes)\n",
    "    num_of_copes = 17\n",
    "    cope_dict = {}\n",
    "    make_fsfs(num_of_copes, template_file, deriv_dir, cope_dict)\n",
    "\n",
    "main()\n"
   ]
  },
  {
   "cell_type": "code",
   "execution_count": 28,
   "metadata": {},
   "outputs": [
    {
     "name": "stdout",
     "output_type": "stream",
     "text": [
      "['H2Ocue_129', 'SSBcue_129', 'USBcue_129', 'SSBtaste_129', 'USBtaste_129', 'H2Otaste_129']\n",
      "['/projects/niblab/bids_projects/Experiments/bbx/bids/derivatives/analysis/feat3/ses-1/_rinse_129.fsf', '/projects/niblab/bids_projects/Experiments/bbx/bids/derivatives/analysis/feat3/ses-1/_H2Ocue_129.fsf', '/projects/niblab/bids_projects/Experiments/bbx/bids/derivatives/analysis/feat3/ses-1/SSBcue_gt_H2Ocue_129.fsf', '/projects/niblab/bids_projects/Experiments/bbx/bids/derivatives/analysis/feat3/ses-1/USBcue_gt_H2Ocue_129.fsf', '/projects/niblab/bids_projects/Experiments/bbx/bids/derivatives/analysis/feat3/ses-1/SSBcue_+_USBcue_gt_H2Ocue_129.fsf', '/projects/niblab/bids_projects/Experiments/bbx/bids/derivatives/analysis/feat3/ses-1/SSBtaste_gt_H2Otaste_129.fsf', '/projects/niblab/bids_projects/Experiments/bbx/bids/derivatives/analysis/feat3/ses-1/USBtaste_gt_H2Otaste_129.fsf', '/projects/niblab/bids_projects/Experiments/bbx/bids/derivatives/analysis/feat3/ses-1/SSBtaste_+_USBtaste_gt_H2Otaste_129.fsf', '/projects/niblab/bids_projects/Experiments/bbx/bids/derivatives/analysis/feat3/ses-1/H2Otaste_gt_rinse_129.fsf', '/projects/niblab/bids_projects/Experiments/bbx/bids/derivatives/analysis/feat3/ses-1/SSBcue_gt_USBcue_129.fsf', '/projects/niblab/bids_projects/Experiments/bbx/bids/derivatives/analysis/feat3/ses-1/USBcue_gt_SSBcue_129.fsf', '/projects/niblab/bids_projects/Experiments/bbx/bids/derivatives/analysis/feat3/ses-1/SSBtaste_gt_USBtaste_129.fsf', '/projects/niblab/bids_projects/Experiments/bbx/bids/derivatives/analysis/feat3/ses-1/USBtaste_gt_SSBtaste_129.fsf']\n"
     ]
    }
   ],
   "source": [
    "fsfs=glob.glob(\"/projects/niblab/bids_projects/Experiments/bbx/bids/derivatives/analysis/feat3/ses-1/*_129.fsf\")\n",
    "feats=glob.glob(\"/projects/niblab/bids_projects/Experiments/bbx/bids/derivatives/analysis/feat3/ses-1/*_129.gfeat\")\n",
    "folders=[x.split(\"/\")[-1].split(\".\")[0] for x in feats]\n",
    "print(folders)\n",
    "\n",
    "fsfs_run = [x for x in fsfs if x.split(\"/\")[-1].split(\".\")[0] not in folders]\n",
    "print(fsfs_run)"
   ]
  },
  {
   "cell_type": "code",
   "execution_count": 29,
   "metadata": {},
   "outputs": [],
   "source": [
    "from subprocess import check_output"
   ]
  },
  {
   "cell_type": "code",
   "execution_count": 30,
   "metadata": {},
   "outputs": [
    {
     "name": "stdout",
     "output_type": "stream",
     "text": [
      "complete.\n"
     ]
    }
   ],
   "source": [
    "for fsf in fsfs_run:\n",
    "    shell_cmd = \"feat {} &\".format(fsf) \n",
    "    #print(shell_cmd)\n",
    "    cmd = check_output(shell_cmd, shell=True)\n",
    "print(\"complete.\")"
   ]
  },
  {
   "cell_type": "markdown",
   "metadata": {},
   "source": [
    "## Quality Check  \n",
    "\n",
    "\n",
    "    * Check the mask  \n",
    "    * Check and html ouput  \n",
    "    * Look at filtered_func  "
   ]
  },
  {
   "cell_type": "code",
   "execution_count": 31,
   "metadata": {},
   "outputs": [],
   "source": [
    "qc_dict={}"
   ]
  },
  {
   "cell_type": "code",
   "execution_count": 34,
   "metadata": {},
   "outputs": [],
   "source": [
    "mean_func_ct=0\n",
    "feat3_folders=glob.glob(os.path.join(deriv_path,\"analysis/feat3/ses-1/*_129.gfeat\"))\n"
   ]
  },
  {
   "cell_type": "code",
   "execution_count": null,
   "metadata": {},
   "outputs": [],
   "source": [
    "for folder in feat3_folders:\n",
    "    zstat_file+\"\"\n",
    "\n",
    "    # parallize code here\n",
    "    ct=0\n",
    "    for zstat in zstat_files:\n",
    "        ct+=1\n",
    "        shell_cmd = \"cluster -i {} -t 0 > temp_file.txt\".format(zstat)\n",
    "        try:\n",
    "            #print(shell_cmd)\n",
    "            cluster = check_output(shell_cmd, shell=True)\n",
    "            temp=pd.read_csv(\"temp_file.txt\", sep='\\t')\n",
    "            max_vox=temp[\"MAX\"].max()\n",
    "\n",
    "        except:\n",
    "            max_vox=None\n",
    "            print(\"fail\")\n",
    "        \n",
    "        \n",
    "        qc_dict[sub_id][\"zstat%i\"%ct] = max_vox\n",
    "        #print(ct, zstat)\n",
    "    \n",
    "    if os.path.exists(mean_func):\n",
    "        mean_func_ct+=1\n",
    "        qc_dict[sub_id][\"mean_func\"] = 1\n",
    "\n",
    "    else:\n",
    "        pass\n",
    "    "
   ]
  }
 ],
 "metadata": {
  "kernelspec": {
   "display_name": "Python 3",
   "language": "python",
   "name": "python3"
  },
  "language_info": {
   "codemirror_mode": {
    "name": "ipython",
    "version": 3
   },
   "file_extension": ".py",
   "mimetype": "text/x-python",
   "name": "python",
   "nbconvert_exporter": "python",
   "pygments_lexer": "ipython3",
   "version": "3.7.4"
  }
 },
 "nbformat": 4,
 "nbformat_minor": 2
}
